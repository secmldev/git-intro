{
 "cells": [
  {
   "cell_type": "markdown",
   "id": "61bfd83b",
   "metadata": {},
   "source": [
    "2 + 2"
   ]
  },
  {
   "cell_type": "code",
   "execution_count": null,
   "id": "ed8b11ab",
   "metadata": {},
   "outputs": [],
   "source": []
  },
  {
   "cell_type": "code",
   "execution_count": 1,
   "id": "45fc17e5",
   "metadata": {},
   "outputs": [
    {
     "data": {
      "text/plain": [
       "'C:\\\\Users\\\\LENOVO\\\\Documents\\\\WebApp\\\\git-intro'"
      ]
     },
     "execution_count": 1,
     "metadata": {},
     "output_type": "execute_result"
    }
   ],
   "source": [
    "import os\n",
    "os.getcwd()"
   ]
  },
  {
   "cell_type": "markdown",
   "id": "001cade1",
   "metadata": {},
   "source": [
    "# Book:\n",
    "\n",
    "[Book](https://git-scm.com/book/en/v2)\n",
    "\n",
    "\n",
    "### Start with Github\n",
    "\n",
    "- Create Github account\n",
    "- Create a repository\n",
    "- Install github desktop\n",
    "- Connect your github desktop to your github account\n",
    "- Clone git repository to your local system using github desktop\n",
    "\n",
    "\n",
    "\n",
    "(Manjunath ji)\n",
    "\n",
    "Start working with Repository\n",
    "\n",
    "Clone few repo to your local\n",
    "Make some changes in local\n",
    "Publish change in this local repo to your github account\n",
    "Commit\n",
    "Push the change\n",
    "From github desktop, check action on repository\n",
    "From github desktop, check action on branch\n",
    "\n",
    "\n",
    "(Dayanand ji)\n",
    "\n",
    "Using git bash\n",
    "\n",
    "Create a folder, say testing\n",
    "Open git bash\n",
    "Cd to testing from git bash to reach the location of folder\n",
    "Git init to make this folder as git folder\n",
    "From Github desktop open existing folder\n",
    "skipping above steps, create new repository from github desktop\n",
    "\n",
    "\n",
    "\n",
    "Work with github\n",
    "\n",
    "Create a new repo\n",
    "Look into code and open with github desktop\n",
    "Clone in a folder\n",
    "Make some changes in the folder, file, code\n",
    "Check from github desktop\n",
    "Commit\n",
    "Push to remote, origin and take the change to github \n",
    "\n",
    "\n",
    "(Shashikant)\n",
    "Fork\n",
    "\n",
    "Fork a repo to your account\n",
    "Clone the forked repo to you local\n",
    "Make some change\n",
    "Commit\n",
    "push\n",
    "\n",
    "\n",
    "\n",
    "Pull Request\n",
    "\n",
    "Make change in your local\n",
    "Commit \n",
    "Push to your github\n",
    "If From forked repo create pull request\n",
    "Make a local branch of main repo, make some change in local and create pull request from local to remote branch, check both the branch and repo before creating pull request\n",
    "\n",
    "\n",
    "Learning\n",
    "\n",
    "What is repository?\n",
    "What is fork?\n",
    "What is clone?\n",
    "What is the difference between fork and clone?\n",
    "\n",
    "\n",
    "What is origin?\n",
    "\n",
    "\n",
    "What is hidden file and directory?\n",
    "\n",
    "How to push the code to remote?\n",
    "\n",
    "\n",
    "(Divypunj ji)\n",
    "\n",
    "Github \n",
    "\n",
    "https://www.youtube.com/watch?v=RPagOAUx2SQ\n"
   ]
  },
  {
   "cell_type": "markdown",
   "id": "9fac1d63",
   "metadata": {},
   "source": [
    "### Markdown cheat sheet\n",
    "\n",
    "[Cheat Sheet](https://www.markdownguide.org/cheat-sheet)"
   ]
  },
  {
   "cell_type": "markdown",
   "id": "54bcf0d1",
   "metadata": {},
   "source": [
    "### Start working with Repository"
   ]
  },
  {
   "cell_type": "markdown",
   "id": "c144ba9e",
   "metadata": {},
   "source": [
    "- Clone few repo to your local\n",
    "\n",
    "- Make some changes in local\n",
    "\n",
    "- Publish change in this local repo to your github account\n",
    "\n",
    "- Commit\n",
    "\n",
    "- Push the change\n",
    "\n",
    "- From github desktop, check action on repository\n",
    "\n",
    "- From github desktop, check action on branch"
   ]
  },
  {
   "cell_type": "code",
   "execution_count": null,
   "id": "40d0fd6e",
   "metadata": {},
   "outputs": [],
   "source": []
  }
 ],
 "metadata": {
  "kernelspec": {
   "display_name": "Python 3 (ipykernel)",
   "language": "python",
   "name": "python3"
  },
  "language_info": {
   "codemirror_mode": {
    "name": "ipython",
    "version": 3
   },
   "file_extension": ".py",
   "mimetype": "text/x-python",
   "name": "python",
   "nbconvert_exporter": "python",
   "pygments_lexer": "ipython3",
   "version": "3.9.12"
  }
 },
 "nbformat": 4,
 "nbformat_minor": 5
}
